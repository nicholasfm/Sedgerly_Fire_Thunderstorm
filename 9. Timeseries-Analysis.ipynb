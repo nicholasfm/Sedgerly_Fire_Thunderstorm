{
 "cells": [
  {
   "cell_type": "code",
   "execution_count": 2,
   "metadata": {},
   "outputs": [],
   "source": [
    "import numpy as np\n",
    "%matplotlib inline\n",
    "import matplotlib.pyplot as plt\n",
    "import os\n",
    "import geopandas as gpd\n",
    "import matplotlib.pyplot as plt\n",
    "import matplotlib\n",
    "#from mpl_toolkits.basemap import Basemap\n",
    "#import folium\n",
    "#from folium import plugins as f_plugins\n",
    "#import fiona\n",
    "import shapely\n",
    "import pandas as pd\n",
    "import seaborn as sns\n",
    "import tables\n",
    "#except:\n",
    "#    !pip install tables\n",
    "#    import tables\n",
    "#from datetime import datetime as dt\n",
    "#from datetime import timedelta"
   ]
  },
  {
   "cell_type": "code",
   "execution_count": 3,
   "metadata": {},
   "outputs": [],
   "source": [
    "crowned_areas_SABRE_count = pd.read_pickle('./datasets/crowning_intersected_SABRE_count.pkl')\n",
    "crowned_areas_SABRE = pd.read_pickle('./datasets/crowning_intersected_SABRE.pkl')"
   ]
  },
  {
   "cell_type": "markdown",
   "metadata": {},
   "source": [
    "## Load radar data"
   ]
  },
  {
   "cell_type": "code",
   "execution_count": 4,
   "metadata": {},
   "outputs": [],
   "source": [
    "radar_mean = pd.read_hdf('./datasets/Sedgerly_5th_mean.h5')\n",
    "radar_max = pd.read_hdf('./datasets/Sedgerly_5th_max.h5')\n",
    "radar_count = pd.read_hdf('./datasets/Sedgerly_5th_count.h5')\n",
    "radar_hdf = pd.read_hdf('./datasets/Sedgerly_5th.h5')"
   ]
  },
  {
   "cell_type": "code",
   "execution_count": 24,
   "metadata": {},
   "outputs": [
    {
     "ename": "NameError",
     "evalue": "name 'radar_hdf' is not defined",
     "output_type": "error",
     "traceback": [
      "\u001b[0;31m---------------------------------------------------------------------------\u001b[0m",
      "\u001b[0;31mNameError\u001b[0m                                 Traceback (most recent call last)",
      "\u001b[0;32m<ipython-input-24-1fc7cddd9c97>\u001b[0m in \u001b[0;36m<module>\u001b[0;34m\u001b[0m\n\u001b[0;32m----> 1\u001b[0;31m \u001b[0mradar_hdf\u001b[0m\u001b[0;34m.\u001b[0m\u001b[0mhead\u001b[0m\u001b[0;34m(\u001b[0m\u001b[0;34m)\u001b[0m\u001b[0;34m\u001b[0m\u001b[0;34m\u001b[0m\u001b[0m\n\u001b[0m",
      "\u001b[0;31mNameError\u001b[0m: name 'radar_hdf' is not defined"
     ]
    }
   ],
   "source": [
    "radar_hdf.head()"
   ]
  },
  {
   "cell_type": "code",
   "execution_count": null,
   "metadata": {},
   "outputs": [],
   "source": [
    "fig, ax = plt.subplots(figsize=(15,6))\n",
    "sns.lineplot(radar_hdf.index,radar_hdf.DBZH)\n",
    "plt.xlabel('Time')\n",
    "plt.ylabel('Reflectivity')\n",
    "#ax.xaxis.set_major_formatter(crowned_areas_SABRE_count.index.DateFormatter('%t')\n",
    "plt.show()"
   ]
  },
  {
   "cell_type": "code",
   "execution_count": null,
   "metadata": {},
   "outputs": [],
   "source": [
    "fig, ax = plt.subplots(figsize=(15,10))\n",
    "\n",
    "\n",
    "ax1 = plt.subplot(311)\n",
    "sns.lineplot(Sedgerly_mean_std.Time_obj,Sedgerly_mean_std.FLAME_HT_mean.rolling(10).mean())\n",
    "plt.setp(ax1.get_xticklabels(), visible=False)\n",
    "plt.xlabel('')\n",
    "plt.ylabel('Mean Flame height')\n",
    "\n",
    "ax2 = plt.subplot(312, sharex=ax1)\n",
    "sns.lineplot(crowned_areas_SABRE_sum.index,crowned_areas_SABRE_sum.mean_crowning.rolling(5).mean())\n",
    "#sns.lineplot(crowned_areas_SABRE_count.index,crowned_areas_SABRE_count.Percentage_Crowning.rolling(10).mean())\n",
    "plt.ylabel('Rolling mean of crowning in sqm')\n",
    "#sns.lineplot(radar_max.index,radar_max.DBZH)\n",
    "plt.setp(ax2.get_xticklabels(), visible=False)\n",
    "plt.xlabel('')\n",
    "\n",
    "\n",
    "ax3 = plt.subplot(313, sharex=ax1)\n",
    "#fig, ax = plt.subplots(3,1,'all',figsize=(12,6))\n",
    "sns.lineplot(radar_mean.index,radar_mean.DBZH,color='b')\n",
    "plt.ylabel('Mean dBZ',color='b')\n",
    "plt.xlabel('Time')\n",
    "\n",
    "ax4 = ax3.twinx()\n",
    "sns.lineplot(radar_count.index,radar_count.DBZH,color='r')\n",
    "plt.ylabel('Radar Pixel Count',color='r')\n",
    "#ax.fill_between(Sedgerly_mean_std.Time_obj,cis[1],cis[0],alpha=0.2)\n",
    "plt.show()"
   ]
  },
  {
   "cell_type": "code",
   "execution_count": null,
   "metadata": {},
   "outputs": [],
   "source": [
    "fig, ax = plt.subplots(figsize=(15,10))\n",
    "\n",
    "\n",
    "ax1 = plt.subplot(311)\n",
    "sns.lineplot(Sedgerly_mean_std.Time_obj,Sedgerly_mean_std.FLAME_HT_mean.rolling(10).mean())\n",
    "plt.setp(ax1.get_xticklabels(), visible=False)\n",
    "plt.xlabel('')\n",
    "plt.ylabel('Mean Flame height')\n",
    "\n",
    "ax2 = plt.subplot(312, sharex=ax1)\n",
    "sns.lineplot(crowned_areas_SABRE_sum.index,crowned_areas_SABRE_sum.mean_crowning.rolling(5).mean())\n",
    "#sns.lineplot(crowned_areas_SABRE_count.index,crowned_areas_SABRE_count.Percentage_Crowning.rolling(10).mean())\n",
    "plt.ylabel('Rolling mean of crowning in sqm')\n",
    "#sns.lineplot(radar_max.index,radar_max.DBZH)\n",
    "plt.setp(ax2.get_xticklabels(), visible=False)\n",
    "plt.xlabel('')\n",
    "\n",
    "\n",
    "ax3 = plt.subplot(313, sharex=ax1)\n",
    "#fig, ax = plt.subplots(3,1,'all',figsize=(12,6))\n",
    "sns.lineplot(radar_mean.index,radar_mean.DBZH,color='b')\n",
    "plt.ylabel('Mean dBZ',color='b')\n",
    "plt.xlabel('Time')\n",
    "\n",
    "ax4 = ax3.twinx()\n",
    "sns.lineplot(radar_count.index,radar_count.DBZH,color='r')\n",
    "plt.ylabel('Radar Pixel Count',color='r')\n",
    "#ax.fill_between(Sedgerly_mean_std.Time_obj,cis[1],cis[0],alpha=0.2)\n",
    "ax4.set_xlim(['2016-12-05 15:58:00','2016-12-05 19:16:00'])\n",
    "plt.show()"
   ]
  },
  {
   "cell_type": "code",
   "execution_count": null,
   "metadata": {},
   "outputs": [],
   "source": [
    "dalby_obs = pd.read_csv('./WeatherData1_Dalby_1min/HD01D_Data_041522_999999999520484.txt')"
   ]
  },
  {
   "cell_type": "code",
   "execution_count": null,
   "metadata": {},
   "outputs": [],
   "source": [
    "dalby_obs.head()"
   ]
  },
  {
   "cell_type": "code",
   "execution_count": null,
   "metadata": {},
   "outputs": [],
   "source": [
    "dalby_obs.columns"
   ]
  },
  {
   "cell_type": "code",
   "execution_count": null,
   "metadata": {},
   "outputs": [],
   "source": [
    "dalby_obs['datetime'] = pd.to_datetime(dalby_obs[' Year Month Day Hour Minutes in YYYY'].astype(str) + '-' +\n",
    "                        dalby_obs['MM'].astype(str) + '-' +\n",
    "                        dalby_obs['DD'].astype(str) + ' ' +\n",
    "                        dalby_obs['HH24'].astype(str) + ':' + \n",
    "                        dalby_obs['MI format in Local standard time'].astype(str))"
   ]
  },
  {
   "cell_type": "code",
   "execution_count": null,
   "metadata": {},
   "outputs": [],
   "source": [
    "fig, ax = plt.subplots(figsize=(15,10))\n",
    "\n",
    "\n",
    "ax1 = plt.subplot(411)\n",
    "sns.lineplot(Sedgerly_mean_std.Time_obj,Sedgerly_mean_std.FLAME_HT_mean.rolling(10).mean())\n",
    "plt.setp(ax1.get_xticklabels(), visible=False)\n",
    "plt.xlabel('')\n",
    "plt.ylabel('Mean Flame height')\n",
    "\n",
    "ax2 = plt.subplot(412, sharex=ax1)\n",
    "sns.lineplot(crowned_areas_SABRE_sum.index,crowned_areas_SABRE_sum.mean_crowning.rolling(5).mean())\n",
    "#sns.lineplot(crowned_areas_SABRE_count.index,crowned_areas_SABRE_count.Percentage_Crowning.rolling(10).mean())\n",
    "plt.ylabel('Rolling mean of crowning in sqm')\n",
    "#sns.lineplot(radar_max.index,radar_max.DBZH)\n",
    "plt.setp(ax2.get_xticklabels(), visible=False)\n",
    "plt.xlabel('')\n",
    "\n",
    "\n",
    "ax3 = plt.subplot(413, sharex=ax1)\n",
    "#fig, ax = plt.subplots(3,1,'all',figsize=(12,6))\n",
    "sns.lineplot(radar_mean.index,radar_mean.DBZH,color='b')\n",
    "plt.ylabel('Mean dBZ',color='b')\n",
    "plt.xlabel('Time')\n",
    "\n",
    "ax4 = ax3.twinx()\n",
    "sns.lineplot(radar_count.index,radar_count.DBZH,color='r')\n",
    "plt.ylabel('Radar Pixel Count',color='r')\n",
    "#ax.fill_between(Sedgerly_mean_std.Time_obj,cis[1],cis[0],alpha=0.2)\n",
    "#ax4.set_xlim(['2016-12-05 15:58:00','2016-12-05 19:16:00'])\n",
    "\n",
    "ax5 = plt.subplot(414, sharex=ax1)\n",
    "sns.lineplot(dalby_obs['datetime'],dalby_obs['Air Temperature in degrees Celsius'],color='r')\n",
    "sns.lineplot(dalby_obs['datetime'],dalby_obs['Dew point temperature in degrees Celsius'],color='b')\n",
    "\n",
    "plt.ylabel('Temperature',color='b')\n",
    "plt.xlabel('Time')\n",
    "ax5.set_xlim(['2016-12-05 15:58:00','2016-12-05 19:16:00'])\n",
    "\n",
    "plt.show()"
   ]
  },
  {
   "cell_type": "code",
   "execution_count": null,
   "metadata": {},
   "outputs": [],
   "source": [
    "UQ_obs = pd.read_csv('./SedgerlyFireAWS.csv')"
   ]
  },
  {
   "cell_type": "code",
   "execution_count": null,
   "metadata": {},
   "outputs": [],
   "source": []
  },
  {
   "cell_type": "code",
   "execution_count": null,
   "metadata": {},
   "outputs": [],
   "source": [
    "UQ_obs['datetime'] = pd.to_datetime(UQ_obs['date'] + ' ' + UQ_obs['time'])\n",
    "UQ_obs.rename(index=str,columns={'Air_Temp (degC)': 'temperature', 'Humidity (%RH)': 'rh'},inplace=True)"
   ]
  },
  {
   "cell_type": "code",
   "execution_count": null,
   "metadata": {},
   "outputs": [],
   "source": [
    "fig, ax = plt.subplots(figsize=(15,10))\n",
    "\n",
    "\n",
    "ax1 = plt.subplot(411)\n",
    "sns.lineplot(Sedgerly_mean_std.Time_obj,Sedgerly_mean_std.FLAME_HT_mean.rolling(10).mean())\n",
    "plt.setp(ax1.get_xticklabels(), visible=False)\n",
    "plt.xlabel('')\n",
    "plt.ylabel('Mean Flame height')\n",
    "\n",
    "ax2 = plt.subplot(412, sharex=ax1)\n",
    "sns.lineplot(crowned_areas_SABRE_sum.index,crowned_areas_SABRE_sum.mean_crowning.rolling(5).mean())\n",
    "#sns.lineplot(crowned_areas_SABRE_count.index,crowned_areas_SABRE_count.Percentage_Crowning.rolling(10).mean())\n",
    "plt.ylabel('Rolling mean of crowning in sqm')\n",
    "#sns.lineplot(radar_max.index,radar_max.DBZH)\n",
    "plt.setp(ax2.get_xticklabels(), visible=False)\n",
    "plt.xlabel('')\n",
    "\n",
    "\n",
    "ax3 = plt.subplot(413, sharex=ax1)\n",
    "#fig, ax = plt.subplots(3,1,'all',figsize=(12,6))\n",
    "sns.lineplot(radar_mean.index,radar_mean.DBZH,color='b')\n",
    "plt.ylabel('Mean dBZ',color='b')\n",
    "plt.xlabel('Time')\n",
    "\n",
    "ax4 = ax3.twinx()\n",
    "sns.lineplot(radar_count.index,radar_count.DBZH,color='r')\n",
    "plt.ylabel('Radar Pixel Count',color='r')\n",
    "#ax.fill_between(Sedgerly_mean_std.Time_obj,cis[1],cis[0],alpha=0.2)\n",
    "#ax4.set_xlim(['2016-12-05 15:58:00','2016-12-05 19:16:00'])\n",
    "\n",
    "ax5 = plt.subplot(414, sharex=ax1)\n",
    "sns.lineplot(UQ_obs['datetime'],UQ_obs['temperature'],color='r')\n",
    "#sns.lineplot(UQ_obs['datetime'],dalby_obs['Dew point temperature in degrees Celsius'],color='b')\n",
    "\n",
    "plt.ylabel('Temperature',color='b')\n",
    "plt.xlabel('Time')\n",
    "\n",
    "#ax6 = ax5.twinx()\n",
    "#sns.lineplot(UQ_obs['datetime'],UQ_obs['rh'],color='b')\n",
    "#plt.ylabel('Radar Pixel Count',color='r')\n",
    "\n",
    "ax5.set_xlim(['2016-12-05 15:58:00','2016-12-05 19:16:00'])\n",
    "\n",
    "plt.show()"
   ]
  },
  {
   "cell_type": "code",
   "execution_count": null,
   "metadata": {},
   "outputs": [],
   "source": []
  },
  {
   "cell_type": "code",
   "execution_count": null,
   "metadata": {},
   "outputs": [],
   "source": []
  }
 ],
 "metadata": {
  "kernelspec": {
   "display_name": "pyart_env",
   "language": "python",
   "name": "myenv"
  },
  "language_info": {
   "codemirror_mode": {
    "name": "ipython",
    "version": 3
   },
   "file_extension": ".py",
   "mimetype": "text/x-python",
   "name": "python",
   "nbconvert_exporter": "python",
   "pygments_lexer": "ipython3",
   "version": "3.7.3"
  }
 },
 "nbformat": 4,
 "nbformat_minor": 2
}
