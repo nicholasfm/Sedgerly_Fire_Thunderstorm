{
 "cells": [
  {
   "cell_type": "code",
   "execution_count": 1,
   "metadata": {},
   "outputs": [],
   "source": [
    "import numpy as np\n",
    "import os\n",
    "import pandas as pd\n",
    "import geopandas as gpd\n",
    "import ConfigParser"
   ]
  },
  {
   "cell_type": "code",
   "execution_count": 2,
   "metadata": {},
   "outputs": [],
   "source": [
    "def ConfigSectionMap(section):\n",
    "    dict1 = {}\n",
    "    options = Config.options(section)\n",
    "    for option in options:\n",
    "        try:\n",
    "            dict1[option] = Config.get(section, option)\n",
    "            if dict1[option] == -1:\n",
    "                DebugPrint(\"skip: %s\" % option)\n",
    "        except:\n",
    "            print(\"exception on %s!\" % option)\n",
    "            dict1[option] = None\n",
    "    return dict1"
   ]
  },
  {
   "cell_type": "code",
   "execution_count": 21,
   "metadata": {},
   "outputs": [
    {
     "name": "stdout",
     "output_type": "stream",
     "text": [
      "Loading Best Estimate\n",
      "Joining Rand_Sedgerly_5Dec_Ignto1215Scar_Trial_1\n",
      "Joining Rand_Sedgerly_5Dec_Ignto1215Scar_Trial_2\n",
      "Joining Rand_Sedgerly_5Dec_Ignto1215Scar_Trial_3\n",
      "Joining Rand_Sedgerly_5Dec_Ignto1215Scar_Trial_4\n",
      "Joining Rand_Sedgerly_5Dec_Ignto1215Scar_Trial_5\n",
      "Joining Rand_Sedgerly_5Dec_Ignto1215Scar_Trial_6\n",
      "Joining Rand_Sedgerly_5Dec_Ignto1215Scar_Trial_7\n",
      "Joining Rand_Sedgerly_5Dec_Ignto1215Scar_Trial_8\n",
      "Joining Rand_Sedgerly_5Dec_Ignto1215Scar_Trial_9\n",
      "Joining Rand_Sedgerly_5Dec_Ignto1215Scar_Trial_10\n",
      "Joining Rand_Sedgerly_5Dec_Ignto1215Scar_Trial_11\n",
      "Joining Rand_Sedgerly_5Dec_Ignto1215Scar_Trial_12\n",
      "Joining Rand_Sedgerly_5Dec_Ignto1215Scar_Trial_13\n",
      "Joining Rand_Sedgerly_5Dec_Ignto1215Scar_Trial_14\n",
      "Joining Rand_Sedgerly_5Dec_Ignto1215Scar_Trial_15\n",
      "Joining Rand_Sedgerly_5Dec_Ignto1215Scar_Trial_16\n",
      "Joining Rand_Sedgerly_5Dec_Ignto1215Scar_Trial_17\n",
      "Joining Rand_Sedgerly_5Dec_Ignto1215Scar_Trial_18\n",
      "Joining Rand_Sedgerly_5Dec_Ignto1215Scar_Trial_19\n",
      "Joining Rand_Sedgerly_5Dec_Ignto1215Scar_Trial_20\n",
      "Joining Rand_Sedgerly_5Dec_Ignto1215Scar_Trial_21\n",
      "Joining Rand_Sedgerly_5Dec_Ignto1215Scar_Trial_22\n",
      "Joining Rand_Sedgerly_5Dec_Ignto1215Scar_Trial_23\n",
      "Joining Rand_Sedgerly_5Dec_Ignto1215Scar_Trial_24\n",
      "Joining Rand_Sedgerly_5Dec_Ignto1215Scar_Trial_25\n",
      "Saving shapefile as Rand_Sedgerly_5Dec_Ignto1215Scar_2016125all_trials.shp\n",
      "Saving csv as Rand_Sedgerly_5Dec_Ignto1215Scar_2016125all_trials.txt\n"
     ]
    }
   ],
   "source": [
    "Config = ConfigParser.ConfigParser()\n",
    "Config.read('./sabre_out_config.ini')\n",
    "sabre_out_dir = ConfigSectionMap('directories')['sabre_out_dir']\n",
    "output_dir = ConfigSectionMap('directories')['output_dir']\n",
    "output_text = ConfigSectionMap('outputs')['output_text']\n",
    "output_shp = ConfigSectionMap('outputs')['output_shp']\n",
    "\n",
    "sabre_out_fls = os.listdir(sabre_out_dir)\n",
    "sabre_ITS_path = os.sep.join([sabre_out_dir,[s for s in sabre_out_fls if \"_ITS.txt\" in s][0]])\n",
    "sabre_ITS = pd.read_csv(sabre_ITS_path,sep=',')\n",
    "\n",
    "best_est_name = sabre_ITS.Trial_Name[sabre_ITS.Trial_Name.str.contains(\"BestEstimate\")][0]\n",
    "print('Loading Best Estimate')\n",
    "SABRE_all_trails = gpd.read_file(os.sep.join([sabre_out_dir,'Results',best_est_name+'_grid.shp']))\n",
    "SABRE_all_trails['Trial_Name'] = best_est_name\n",
    "SABRE_all_trails['Time'] = pd.to_datetime(sabre_ITS.Ignition_Time[sabre_ITS.Trial_Name.str.contains(\"BestEstimate\")][0])\n",
    "\n",
    "#Make a copy of dataframe where spotting exists\n",
    "spot = SABRE_all_trails.dropna(subset = ['HOUR_SPOT']).copy()\n",
    "spot['Grid_Type'] = 'Spot'\n",
    "spot['Time'] = spot['Time'] + [pd.Timedelta(hours=ts) for ts in spot['HOUR_SPOT']]\n",
    "\n",
    "#Trim trial\n",
    "SABRE_all_trails = SABRE_all_trails.dropna(subset = ['HOUR_BURNT'])\n",
    "SABRE_all_trails['Grid_Type'] = 'Fire'\n",
    "SABRE_all_trails['Time'] = SABRE_all_trails['Time'] + [pd.Timedelta(hours=ts) for ts in SABRE_all_trails['HOUR_BURNT']]\n",
    "\n",
    "#Recombine\n",
    "SABRE_all_trails = pd.concat([SABRE_all_trails,spot])\n",
    "\n",
    "del spot\n",
    "\n",
    "for trial_name in sabre_ITS.Trial_Name[sabre_ITS.Trial_Name.str.contains(\"Trial\")]:\n",
    "    SABRE_trial = gpd.read_file(os.sep.join([sabre_out_dir,'Results',trial_name+'_grid.shp']))\n",
    "    SABRE_trial['Time'] = pd.to_datetime(sabre_ITS.Ignition_Time[sabre_ITS.Trial_Name == trial_name])\n",
    "    \n",
    "    #Make a copy of dataframe where spotting exists\n",
    "    spot = SABRE_trial.dropna(subset = ['HOUR_SPOT']).copy()\n",
    "    spot['Grid_Type'] = 'Spot'\n",
    "    spot['Time'] = spot['Time'] + [pd.Timedelta(hours=ts) for ts in spot['HOUR_SPOT']]\n",
    "    \n",
    "    #Trim trial\n",
    "    SABRE_trial = SABRE_trial.dropna(subset = ['HOUR_BURNT'])\n",
    "    SABRE_trial['Grid_Type'] = 'Fire'\n",
    "    SABRE_trial['Time'] = SABRE_trial['Time'] + [pd.Timedelta(hours=ts) for ts in SABRE_trial['HOUR_BURNT']]\n",
    "    \n",
    "    SABRE_trial = pd.concat([SABRE_trial,spot])\n",
    "    SABRE_trial['Trial_Name'] = trial_name\n",
    "    #print(SABRE_trial['Trial_Name'].shape)\n",
    "    print('Joining '+ trial_name)\n",
    "    #print(SABRE_trial.shape[0])\n",
    "    del spot\n",
    "    SABRE_all_trails = pd.concat([SABRE_all_trails,SABRE_trial])\n",
    "    #print(SABRE_all_trails.shape[0])\n",
    "    del SABRE_trial\n",
    "    \n",
    "SABRE_all_trails['Time_obj'] = SABRE_all_trails['Time'].dt.round('1s')\n",
    "SABRE_all_trails['Time'] = SABRE_all_trails['Time'].dt.round('1s').astype(str)\n",
    "\n",
    "if output_shp:\n",
    "    \n",
    "    print('Saving shapefile as ' + os.path.basename(sabre_out_dir) + 'all_trials.shp')\n",
    "    if 'Time_obj' in SABRE_all_trails:\n",
    "        trials_out = SABRE_all_trails.drop('Time_obj', axis=1)\n",
    "    else:\n",
    "        trials_out = SABRE_all_trails\n",
    "    trials_out.to_file(os.sep.join([output_dir, os.path.basename(sabre_out_dir)]) + 'all_trials.shp',driver='ESRI Shapefile')\n",
    "\n",
    "if output_text:\n",
    "    SABRE_all_trails['Centriods'] = SABRE_all_trails.centroid.to_crs({'init': 'epsg:4326'})\n",
    "    df = SABRE_all_trails.drop('geometry', axis=1)  # df is a DataFrame, not GeoDataFrame after the drop\n",
    "    df['Latitude'] = SABRE_all_trails['Centriods'].apply(lambda p: p.x)\n",
    "    df['Longitude'] = SABRE_all_trails['Centriods'].apply(lambda p: p.x)\n",
    "    if 'Time_obj' in df:\n",
    "        df = df.drop('Time_obj', axis=1)\n",
    "    df = df.drop('Centriods', axis=1)\n",
    "    df = df.drop('WIND_MOD', axis=1)\n",
    "    print('Saving csv as ' + os.path.basename(sabre_out_dir) + 'all_trials.txt')\n",
    "    df.to_csv(os.sep.join([output_dir, os.path.basename(sabre_out_dir)]) + 'all_trials.txt',index=False) #,float_format='%.1f'"
   ]
  },
  {
   "cell_type": "code",
   "execution_count": 6,
   "metadata": {},
   "outputs": [],
   "source": [
    "import matplotlib.pyplot as plt\n",
    "plt.style.use('classic')\n",
    "%matplotlib inline\n",
    "import seaborn as sns\n",
    "sns.set()"
   ]
  },
  {
   "cell_type": "code",
   "execution_count": null,
   "metadata": {},
   "outputs": [],
   "source": [
    "with sns.axes_style('white'):\n",
    "    g = sns.jointplot(\"split_sec\", \"final_sec\", data, kind='hex')"
   ]
  },
  {
   "cell_type": "code",
   "execution_count": 8,
   "metadata": {},
   "outputs": [],
   "source": [
    "spark_geotiff = './files_in/CustomOutputs.tiff'"
   ]
  },
  {
   "cell_type": "code",
   "execution_count": 188,
   "metadata": {},
   "outputs": [
    {
     "ename": "ValueError",
     "evalue": "'index_left' and 'index_right' cannot be names in the frames being joined",
     "output_type": "error",
     "traceback": [
      "\u001b[0;31m---------------------------------------------------------------------------\u001b[0m",
      "\u001b[0;31mValueError\u001b[0m                                Traceback (most recent call last)",
      "\u001b[0;32m<ipython-input-188-6cf398d4f4a4>\u001b[0m in \u001b[0;36m<module>\u001b[0;34m()\u001b[0m\n\u001b[1;32m     32\u001b[0m             \u001b[0;32melse\u001b[0m\u001b[0;34m:\u001b[0m\u001b[0;34m\u001b[0m\u001b[0m\n\u001b[1;32m     33\u001b[0m                 \u001b[0mgdata\u001b[0m \u001b[0;34m=\u001b[0m \u001b[0mtiff2gpd\u001b[0m\u001b[0;34m(\u001b[0m\u001b[0mkey\u001b[0m\u001b[0;34m,\u001b[0m\u001b[0mvalue\u001b[0m\u001b[0;34m,\u001b[0m\u001b[0msrc\u001b[0m\u001b[0;34m)\u001b[0m\u001b[0;34m\u001b[0m\u001b[0m\n\u001b[0;32m---> 34\u001b[0;31m                 \u001b[0mspark_polygons\u001b[0m \u001b[0;34m=\u001b[0m \u001b[0mgpd\u001b[0m\u001b[0;34m.\u001b[0m\u001b[0msjoin\u001b[0m\u001b[0;34m(\u001b[0m\u001b[0mspark_polygons\u001b[0m\u001b[0;34m,\u001b[0m\u001b[0mgdata\u001b[0m\u001b[0;34m,\u001b[0m \u001b[0mhow\u001b[0m \u001b[0;34m=\u001b[0m \u001b[0;34m'left'\u001b[0m\u001b[0;34m)\u001b[0m\u001b[0;34m\u001b[0m\u001b[0m\n\u001b[0m\u001b[1;32m     35\u001b[0m \u001b[0;34m\u001b[0m\u001b[0m\n\u001b[1;32m     36\u001b[0m         \u001b[0mspark_polygons\u001b[0m\u001b[0;34m.\u001b[0m\u001b[0mcrs\u001b[0m \u001b[0;34m=\u001b[0m \u001b[0msrc\u001b[0m\u001b[0;34m.\u001b[0m\u001b[0mcrs\u001b[0m\u001b[0;34m\u001b[0m\u001b[0m\n",
      "\u001b[0;32m/Users/nick/anaconda3/envs/geopandas_no_netcdf/lib/python2.7/site-packages/geopandas/tools/sjoin.pyc\u001b[0m in \u001b[0;36msjoin\u001b[0;34m(left_df, right_df, how, op, lsuffix, rsuffix)\u001b[0m\n\u001b[1;32m     49\u001b[0m             or any(right_df.columns.isin([index_left, index_right]))):\n\u001b[1;32m     50\u001b[0m         raise ValueError(\"'{0}' and '{1}' cannot be names in the frames being\"\n\u001b[0;32m---> 51\u001b[0;31m                          \" joined\".format(index_left, index_right))\n\u001b[0m\u001b[1;32m     52\u001b[0m \u001b[0;34m\u001b[0m\u001b[0m\n\u001b[1;32m     53\u001b[0m     \u001b[0;31m# the rtree spatial index only allows limited (numeric) index types, but an\u001b[0m\u001b[0;34m\u001b[0m\u001b[0;34m\u001b[0m\u001b[0m\n",
      "\u001b[0;31mValueError\u001b[0m: 'index_left' and 'index_right' cannot be names in the frames being joined"
     ]
    }
   ],
   "source": [
    "def tiff2gpd(layer,layer_name,src):\n",
    "    image = src.read(key) # first band\n",
    "    results = (\n",
    "    {'properties': {layer_name: v}, 'geometry': s}\n",
    "    for k, (s, v) \n",
    "    in enumerate(\n",
    "        shapes(image, mask=mask, transform=src.affine)))\n",
    "    geoms = list(results)\n",
    "    gdata  = gpd.GeoDataFrame.from_features(geoms)\n",
    "    return gdata\n",
    "    \n",
    "\n",
    "raster_shapes = gpd.GeoDataFrame()\n",
    "raster_shapes['geometry'] = None\n",
    "field_dict = {1:'Fuel_type',\n",
    "              2:'Flame_Height',\n",
    "              3:'Crowning_Index',\n",
    "              4:'ROS',\n",
    "              5:'Time',\n",
    "             }\n",
    "raster_shapes['value'] = None\n",
    "mask = None\n",
    "band = 5 # 5 = Time of arrival\n",
    "k = 0\n",
    "\n",
    "with rasterio.drivers():\n",
    "    with rasterio.open(spark_geotiff) as src:\n",
    "        spark_polygons = tiff2gpd(5,'Time',src)\n",
    "        for key, value in field_dict.iteritems():\n",
    "            if value == 'Time':\n",
    "                continue\n",
    "            else:\n",
    "                gdata = tiff2gpd(key,value,src)\n",
    "                spark_polygons = gpd.sjoin(spark_polygons,gdata, how = 'left')\n",
    "\n",
    "        spark_polygons.crs = src.crs\n",
    "\n",
    "        "
   ]
  },
  {
   "cell_type": "code",
   "execution_count": null,
   "metadata": {},
   "outputs": [],
   "source": [
    "spark_polygons.head()"
   ]
  },
  {
   "cell_type": "code",
   "execution_count": 176,
   "metadata": {},
   "outputs": [
    {
     "name": "stdout",
     "output_type": "stream",
     "text": [
      "1\n",
      "2\n",
      "3\n",
      "4\n",
      "5\n"
     ]
    }
   ],
   "source": [
    "for key, value in field_dict.iteritems():\n",
    "    print(key)"
   ]
  },
  {
   "cell_type": "code",
   "execution_count": 127,
   "metadata": {},
   "outputs": [
    {
     "data": {
      "text/plain": [
       "'Time of Arrival'"
      ]
     },
     "execution_count": 127,
     "metadata": {},
     "output_type": "execute_result"
    }
   ],
   "source": [
    "field_dict[1]"
   ]
  },
  {
   "cell_type": "code",
   "execution_count": 99,
   "metadata": {},
   "outputs": [
    {
     "data": {
      "text/html": [
       "<div>\n",
       "<style scoped>\n",
       "    .dataframe tbody tr th:only-of-type {\n",
       "        vertical-align: middle;\n",
       "    }\n",
       "\n",
       "    .dataframe tbody tr th {\n",
       "        vertical-align: top;\n",
       "    }\n",
       "\n",
       "    .dataframe thead th {\n",
       "        text-align: right;\n",
       "    }\n",
       "</style>\n",
       "<table border=\"1\" class=\"dataframe\">\n",
       "  <thead>\n",
       "    <tr style=\"text-align: right;\">\n",
       "      <th></th>\n",
       "      <th>geometry</th>\n",
       "      <th>value</th>\n",
       "    </tr>\n",
       "  </thead>\n",
       "  <tbody>\n",
       "    <tr>\n",
       "      <th>1653</th>\n",
       "      <td>POLYGON ((1647797.625 -3302053, 1647797.625 -3...</td>\n",
       "      <td>0</td>\n",
       "    </tr>\n",
       "    <tr>\n",
       "      <th>1741</th>\n",
       "      <td>POLYGON ((1647737.625 -3302083, 1647737.625 -3...</td>\n",
       "      <td>0</td>\n",
       "    </tr>\n",
       "    <tr>\n",
       "      <th>1830</th>\n",
       "      <td>POLYGON ((1647707.625 -3302113, 1647707.625 -3...</td>\n",
       "      <td>0</td>\n",
       "    </tr>\n",
       "    <tr>\n",
       "      <th>1922</th>\n",
       "      <td>POLYGON ((1647677.625 -3302143, 1647677.625 -3...</td>\n",
       "      <td>0</td>\n",
       "    </tr>\n",
       "    <tr>\n",
       "      <th>2014</th>\n",
       "      <td>POLYGON ((1647647.625 -3302173, 1647647.625 -3...</td>\n",
       "      <td>0</td>\n",
       "    </tr>\n",
       "    <tr>\n",
       "      <th>2106</th>\n",
       "      <td>POLYGON ((1647617.625 -3302203, 1647617.625 -3...</td>\n",
       "      <td>0</td>\n",
       "    </tr>\n",
       "    <tr>\n",
       "      <th>2603</th>\n",
       "      <td>POLYGON ((1650017.625 -3302353, 1650017.625 -3...</td>\n",
       "      <td>0</td>\n",
       "    </tr>\n",
       "    <tr>\n",
       "      <th>2687</th>\n",
       "      <td>POLYGON ((1650047.625 -3302383, 1650047.625 -3...</td>\n",
       "      <td>0</td>\n",
       "    </tr>\n",
       "    <tr>\n",
       "      <th>2773</th>\n",
       "      <td>POLYGON ((1650077.625 -3302413, 1650077.625 -3...</td>\n",
       "      <td>0</td>\n",
       "    </tr>\n",
       "    <tr>\n",
       "      <th>2862</th>\n",
       "      <td>POLYGON ((1650107.625 -3302443, 1650107.625 -3...</td>\n",
       "      <td>0</td>\n",
       "    </tr>\n",
       "    <tr>\n",
       "      <th>2951</th>\n",
       "      <td>POLYGON ((1650137.625 -3302473, 1650137.625 -3...</td>\n",
       "      <td>0</td>\n",
       "    </tr>\n",
       "    <tr>\n",
       "      <th>2954</th>\n",
       "      <td>POLYGON ((1650227.625 -3302473, 1650227.625 -3...</td>\n",
       "      <td>0</td>\n",
       "    </tr>\n",
       "    <tr>\n",
       "      <th>3039</th>\n",
       "      <td>POLYGON ((1650167.625 -3302503, 1650167.625 -3...</td>\n",
       "      <td>0</td>\n",
       "    </tr>\n",
       "    <tr>\n",
       "      <th>15378</th>\n",
       "      <td>POLYGON ((1650377.625 -3306043, 1650377.625 -3...</td>\n",
       "      <td>0</td>\n",
       "    </tr>\n",
       "    <tr>\n",
       "      <th>16317</th>\n",
       "      <td>POLYGON ((1649297.625 -3306433, 1649297.625 -3...</td>\n",
       "      <td>0</td>\n",
       "    </tr>\n",
       "    <tr>\n",
       "      <th>16394</th>\n",
       "      <td>POLYGON ((1649267.625 -3306463, 1649267.625 -3...</td>\n",
       "      <td>0</td>\n",
       "    </tr>\n",
       "    <tr>\n",
       "      <th>16396</th>\n",
       "      <td>POLYGON ((1649327.625 -3306463, 1649327.625 -3...</td>\n",
       "      <td>0</td>\n",
       "    </tr>\n",
       "    <tr>\n",
       "      <th>16475</th>\n",
       "      <td>POLYGON ((1649297.625 -3306493, 1649297.625 -3...</td>\n",
       "      <td>0</td>\n",
       "    </tr>\n",
       "    <tr>\n",
       "      <th>16477</th>\n",
       "      <td>POLYGON ((1649357.625 -3306493, 1649357.625 -3...</td>\n",
       "      <td>0</td>\n",
       "    </tr>\n",
       "    <tr>\n",
       "      <th>16757</th>\n",
       "      <td>POLYGON ((1650437.625 -3306553, 1650437.625 -3...</td>\n",
       "      <td>0</td>\n",
       "    </tr>\n",
       "    <tr>\n",
       "      <th>16916</th>\n",
       "      <td>POLYGON ((1650047.625 -3306643, 1650047.625 -3...</td>\n",
       "      <td>0</td>\n",
       "    </tr>\n",
       "    <tr>\n",
       "      <th>16930</th>\n",
       "      <td>POLYGON ((1650467.625 -3306643, 1650467.625 -3...</td>\n",
       "      <td>0</td>\n",
       "    </tr>\n",
       "    <tr>\n",
       "      <th>17016</th>\n",
       "      <td>POLYGON ((1650437.625 -3306673, 1650437.625 -3...</td>\n",
       "      <td>0</td>\n",
       "    </tr>\n",
       "    <tr>\n",
       "      <th>17106</th>\n",
       "      <td>POLYGON ((1650467.625 -3306703, 1650467.625 -3...</td>\n",
       "      <td>0</td>\n",
       "    </tr>\n",
       "    <tr>\n",
       "      <th>17181</th>\n",
       "      <td>POLYGON ((1650017.625 -3306733, 1650017.625 -3...</td>\n",
       "      <td>0</td>\n",
       "    </tr>\n",
       "    <tr>\n",
       "      <th>18924</th>\n",
       "      <td>POLYGON ((1648397.625 -3307453, 1648397.625 -3...</td>\n",
       "      <td>0</td>\n",
       "    </tr>\n",
       "    <tr>\n",
       "      <th>18958</th>\n",
       "      <td>POLYGON ((1648427.625 -3307483, 1648427.625 -3...</td>\n",
       "      <td>0</td>\n",
       "    </tr>\n",
       "    <tr>\n",
       "      <th>20477</th>\n",
       "      <td>POLYGON ((1643867.625 -3298513, 1643867.625 -3...</td>\n",
       "      <td>0</td>\n",
       "    </tr>\n",
       "  </tbody>\n",
       "</table>\n",
       "</div>"
      ],
      "text/plain": [
       "                                                geometry value\n",
       "1653   POLYGON ((1647797.625 -3302053, 1647797.625 -3...     0\n",
       "1741   POLYGON ((1647737.625 -3302083, 1647737.625 -3...     0\n",
       "1830   POLYGON ((1647707.625 -3302113, 1647707.625 -3...     0\n",
       "1922   POLYGON ((1647677.625 -3302143, 1647677.625 -3...     0\n",
       "2014   POLYGON ((1647647.625 -3302173, 1647647.625 -3...     0\n",
       "2106   POLYGON ((1647617.625 -3302203, 1647617.625 -3...     0\n",
       "2603   POLYGON ((1650017.625 -3302353, 1650017.625 -3...     0\n",
       "2687   POLYGON ((1650047.625 -3302383, 1650047.625 -3...     0\n",
       "2773   POLYGON ((1650077.625 -3302413, 1650077.625 -3...     0\n",
       "2862   POLYGON ((1650107.625 -3302443, 1650107.625 -3...     0\n",
       "2951   POLYGON ((1650137.625 -3302473, 1650137.625 -3...     0\n",
       "2954   POLYGON ((1650227.625 -3302473, 1650227.625 -3...     0\n",
       "3039   POLYGON ((1650167.625 -3302503, 1650167.625 -3...     0\n",
       "15378  POLYGON ((1650377.625 -3306043, 1650377.625 -3...     0\n",
       "16317  POLYGON ((1649297.625 -3306433, 1649297.625 -3...     0\n",
       "16394  POLYGON ((1649267.625 -3306463, 1649267.625 -3...     0\n",
       "16396  POLYGON ((1649327.625 -3306463, 1649327.625 -3...     0\n",
       "16475  POLYGON ((1649297.625 -3306493, 1649297.625 -3...     0\n",
       "16477  POLYGON ((1649357.625 -3306493, 1649357.625 -3...     0\n",
       "16757  POLYGON ((1650437.625 -3306553, 1650437.625 -3...     0\n",
       "16916  POLYGON ((1650047.625 -3306643, 1650047.625 -3...     0\n",
       "16930  POLYGON ((1650467.625 -3306643, 1650467.625 -3...     0\n",
       "17016  POLYGON ((1650437.625 -3306673, 1650437.625 -3...     0\n",
       "17106  POLYGON ((1650467.625 -3306703, 1650467.625 -3...     0\n",
       "17181  POLYGON ((1650017.625 -3306733, 1650017.625 -3...     0\n",
       "18924  POLYGON ((1648397.625 -3307453, 1648397.625 -3...     0\n",
       "18958  POLYGON ((1648427.625 -3307483, 1648427.625 -3...     0\n",
       "20477  POLYGON ((1643867.625 -3298513, 1643867.625 -3...     0"
      ]
     },
     "execution_count": 99,
     "metadata": {},
     "output_type": "execute_result"
    }
   ],
   "source": [
    "raster_shapes[raster_shapes.value==0]"
   ]
  },
  {
   "cell_type": "code",
   "execution_count": 87,
   "metadata": {},
   "outputs": [],
   "source": [
    "raster_shapes.to_file(os.sep.join([output_dir,'spark_vectorized.shp']),driver='ESRI Shapefile')"
   ]
  },
  {
   "cell_type": "markdown",
   "metadata": {},
   "source": [
    "## Print legacy output fields "
   ]
  },
  {
   "cell_type": "code",
   "execution_count": 161,
   "metadata": {},
   "outputs": [
    {
     "data": {
      "text/plain": [
       "Index([u'OBJECTID', u'CELL_ID', u'S_SLOPE', u'S_ELEVTN', u'S_ASPECT',\n",
       "       u'F_GRASS', u'F_SURFACE', u'F_BARK', u'F_ELVTD', u'F_TOTAL',\n",
       "       u'ROAD_PROX', u'DISRUPTION', u'HOUR_BURNT', u'E_ROS', u'E_INTSTY',\n",
       "       u'HOUR_SPOT', u'SPOT_DIST', u'EMBR_DNSTY', u'SUPPRESSED', u'WENT_OUT',\n",
       "       u'FLAME_HT', u'FLAME_DT', u'CONVECT', u'FMC', u'FFDI', u'ASSET_ID',\n",
       "       u'WIND_SPD', u'WIND_DIR', u'IMPACT_DIR', u'HL_PROB', u'X_COORD',\n",
       "       u'Y_COORD', u'Trial', u'Grid_Type', u'Trial_count_total',\n",
       "       u'Incident_Name', u'Incident_Identifier', u'State', u'Supported_Agency',\n",
       "       u'Region', u'Requesting_Group', u'Scenario_Name', u'Scenario_Type',\n",
       "       u'Scenario_Description', u'Trial_Name', u'Ignition_Time', u'Simulator',\n",
       "       u'Prediction_Valid_Until', u'Trial_Count', u'Simulated_Grid_Size_m',\n",
       "       u'Requesting_Person', u'Requesting_Person_Phone',\n",
       "       u'Requesting_Person_Email', u'FBAN', u'FBAN_Phone', u'FBAN_Email',\n",
       "       u'Authorising_FBAN', u'Authorising_FBAN_Phone',\n",
       "       u'Authorising_FBAN_Email', u'Time_BURNT', u'Quantity', u'Scenario',\n",
       "       u'ORIG_FID', u'POINT_X', u'POINT_Y', u'Hour'],\n",
       "      dtype='object')"
      ]
     },
     "execution_count": 161,
     "metadata": {},
     "output_type": "execute_result"
    }
   ],
   "source": [
    "tableau_out = pd.read_csv('./files_in/SABRE_results/Rand_Sedgerly_5Dec_Ignto1215Scar_2016125/Archived_Files/Output_tableau.txt')\n",
    "tableau_out.keys()"
   ]
  },
  {
   "cell_type": "markdown",
   "metadata": {},
   "source": [
    "## Print out possible drivers for Geopandas"
   ]
  },
  {
   "cell_type": "code",
   "execution_count": 54,
   "metadata": {},
   "outputs": [
    {
     "data": {
      "text/plain": [
       "{'ARCGEN': 'r',\n",
       " 'AeronavFAA': 'r',\n",
       " 'BNA': 'raw',\n",
       " 'DGN': 'raw',\n",
       " 'DXF': 'raw',\n",
       " 'ESRI Shapefile': 'raw',\n",
       " 'GPKG': 'rw',\n",
       " 'GPSTrackMaker': 'raw',\n",
       " 'GPX': 'raw',\n",
       " 'GeoJSON': 'rw',\n",
       " 'Idrisi': 'r',\n",
       " 'MapInfo File': 'raw',\n",
       " 'OpenFileGDB': 'r',\n",
       " 'PCIDSK': 'r',\n",
       " 'SEGY': 'r',\n",
       " 'SUA': 'r'}"
      ]
     },
     "execution_count": 54,
     "metadata": {},
     "output_type": "execute_result"
    }
   ],
   "source": [
    "import fiona; fiona.supported_drivers"
   ]
  },
  {
   "cell_type": "code",
   "execution_count": null,
   "metadata": {},
   "outputs": [],
   "source": []
  }
 ],
 "metadata": {
  "kernelspec": {
   "display_name": "Python 3",
   "language": "python",
   "name": "python3"
  },
  "language_info": {
   "codemirror_mode": {
    "name": "ipython",
    "version": 3
   },
   "file_extension": ".py",
   "mimetype": "text/x-python",
   "name": "python",
   "nbconvert_exporter": "python",
   "pygments_lexer": "ipython3",
   "version": "3.6.5"
  }
 },
 "nbformat": 4,
 "nbformat_minor": 2
}
